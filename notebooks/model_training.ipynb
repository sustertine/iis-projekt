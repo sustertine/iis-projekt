{
 "cells": [
  {
   "cell_type": "code",
   "execution_count": null,
   "outputs": [],
   "source": [
    "from keras.src.layers import LSTM\n",
    "from keras.src.layers import Dense\n",
    "from keras import Sequential\n",
    "\n",
    "\n",
    "def create_model(n_time_steps, n_features):\n",
    "    model = Sequential()\n",
    "    model.add(LSTM(50, input_shape=(n_time_steps, n_features), stateful=True)) # train_X.shape[1], train_X.shape[2\n",
    "    model.add(Dense(24))\n",
    "    model.compile(loss='mse', optimizer='adam')\n",
    "    return model"
   ],
   "metadata": {
    "collapsed": false
   },
   "id": "befd60bcf6c3f637"
  }
 ],
 "metadata": {
  "kernelspec": {
   "display_name": "Python 3",
   "language": "python",
   "name": "python3"
  },
  "language_info": {
   "codemirror_mode": {
    "name": "ipython",
    "version": 2
   },
   "file_extension": ".py",
   "mimetype": "text/x-python",
   "name": "python",
   "nbconvert_exporter": "python",
   "pygments_lexer": "ipython2",
   "version": "2.7.6"
  }
 },
 "nbformat": 4,
 "nbformat_minor": 5
}
