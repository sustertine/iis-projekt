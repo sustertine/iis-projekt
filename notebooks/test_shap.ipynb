{
 "cells": [
  {
   "cell_type": "code",
   "execution_count": 1,
   "id": "initial_id",
   "metadata": {
    "collapsed": true,
    "ExecuteTime": {
     "end_time": "2024-08-18T17:28:16.125375300Z",
     "start_time": "2024-08-18T17:28:14.565830500Z"
    }
   },
   "outputs": [],
   "source": [
    "import pandas as pd\n",
    "from mlflow import MlflowClient\n",
    "import mlflow\n",
    "import os\n",
    "from dotenv import load_dotenv\n",
    "\n",
    "load_dotenv()\n",
    "mlflow.set_tracking_uri(os.getenv('MLFLOW_TRACKING_URI'))\n",
    "username = os.getenv('MLFLOW_TRACKING_USERNAME')\n",
    "password = os.getenv('MLFLOW_TRACKING_PASSWORD')\n",
    "\n",
    "mlflow_client = MlflowClient()"
   ]
  },
  {
   "cell_type": "code",
   "execution_count": 2,
   "outputs": [
    {
     "name": "stderr",
     "output_type": "stream",
     "text": [
      "C:\\Users\\Tine Šuster\\AppData\\Local\\Temp\\ipykernel_20568\\2804614595.py:3: FutureWarning: ``mlflow.tracking.client.MlflowClient.get_latest_versions`` is deprecated since 2.9.0. Model registry stages will be removed in a future major release. To learn more about the deprecation of model registry stages, see our migration guide here: https://mlflow.org/docs/latest/model-registry.html#migrating-from-stages\n",
      "  latest_model_version = mlflow_client.get_latest_versions(model_name)\n"
     ]
    },
    {
     "data": {
      "text/plain": "Downloading artifacts:   0%|          | 0/10 [00:00<?, ?it/s]",
      "application/vnd.jupyter.widget-view+json": {
       "version_major": 2,
       "version_minor": 0,
       "model_id": "8bd89463db794000894f8460ca67ae16"
      }
     },
     "metadata": {},
     "output_type": "display_data"
    }
   ],
   "source": [
    "city = 'MARIBOR'\n",
    "model_name = f\"{city}_model\"\n",
    "latest_model_version = mlflow_client.get_latest_versions(model_name)\n",
    "latest_model = mlflow_client.get_model_version(model_name, latest_model_version[-1].version)\n",
    "model_uri = f'runs:/{latest_model.run_id}/model'\n",
    "model = mlflow.pyfunc.load_model(model_uri)"
   ],
   "metadata": {
    "collapsed": false,
    "ExecuteTime": {
     "end_time": "2024-08-18T17:28:24.878573800Z",
     "start_time": "2024-08-18T17:28:16.126376600Z"
    }
   },
   "id": "75ab737705c2e97d"
  },
  {
   "cell_type": "code",
   "execution_count": 3,
   "outputs": [],
   "source": [
    "import numpy as np\n",
    "\n",
    "\n",
    "def create_windows(df, window_size, prediction_horizon, target_column='european_aqi'):\n",
    "    data = df.to_numpy()\n",
    "    target_index = df.columns.get_loc(target_column)\n",
    "\n",
    "    X, y = [], []\n",
    "    for i in range(len(data) - window_size - prediction_horizon + 1):\n",
    "        X.append(data[i:i + window_size, :])\n",
    "        y.append(data[i + window_size:i + window_size + prediction_horizon, target_index])\n",
    "    return np.array(X), np.array(y)\n"
   ],
   "metadata": {
    "collapsed": false,
    "ExecuteTime": {
     "end_time": "2024-08-18T17:28:24.894573Z",
     "start_time": "2024-08-18T17:28:24.881573300Z"
    }
   },
   "id": "57388fe4a792572d"
  },
  {
   "cell_type": "code",
   "execution_count": 16,
   "outputs": [
    {
     "ename": "AttributeError",
     "evalue": "'numpy.ndarray' object has no attribute 'to_numpy'",
     "output_type": "error",
     "traceback": [
      "\u001B[1;31m---------------------------------------------------------------------------\u001B[0m",
      "\u001B[1;31mAttributeError\u001B[0m                            Traceback (most recent call last)",
      "Cell \u001B[1;32mIn[16], line 4\u001B[0m\n\u001B[0;32m      2\u001B[0m data\u001B[38;5;241m.\u001B[39mdrop(columns\u001B[38;5;241m=\u001B[39m[\u001B[38;5;124m'\u001B[39m\u001B[38;5;124mtime\u001B[39m\u001B[38;5;124m'\u001B[39m], inplace\u001B[38;5;241m=\u001B[39m\u001B[38;5;28;01mTrue\u001B[39;00m)\n\u001B[0;32m      3\u001B[0m data \u001B[38;5;241m=\u001B[39m np\u001B[38;5;241m.\u001B[39mexpand_dims(data\u001B[38;5;241m.\u001B[39mvalues, axis\u001B[38;5;241m=\u001B[39m\u001B[38;5;241m0\u001B[39m)\n\u001B[1;32m----> 4\u001B[0m X, y \u001B[38;5;241m=\u001B[39m \u001B[43mcreate_windows\u001B[49m\u001B[43m(\u001B[49m\u001B[43mdata\u001B[49m\u001B[43m,\u001B[49m\u001B[43m \u001B[49m\u001B[38;5;241;43m24\u001B[39;49m\u001B[43m,\u001B[49m\u001B[43m \u001B[49m\u001B[38;5;241;43m1\u001B[39;49m\u001B[43m)\u001B[49m\n",
      "Cell \u001B[1;32mIn[3], line 5\u001B[0m, in \u001B[0;36mcreate_windows\u001B[1;34m(df, window_size, prediction_horizon, target_column)\u001B[0m\n\u001B[0;32m      4\u001B[0m \u001B[38;5;28;01mdef\u001B[39;00m \u001B[38;5;21mcreate_windows\u001B[39m(df, window_size, prediction_horizon, target_column\u001B[38;5;241m=\u001B[39m\u001B[38;5;124m'\u001B[39m\u001B[38;5;124meuropean_aqi\u001B[39m\u001B[38;5;124m'\u001B[39m):\n\u001B[1;32m----> 5\u001B[0m     data \u001B[38;5;241m=\u001B[39m \u001B[43mdf\u001B[49m\u001B[38;5;241;43m.\u001B[39;49m\u001B[43mto_numpy\u001B[49m()\n\u001B[0;32m      6\u001B[0m     target_index \u001B[38;5;241m=\u001B[39m df\u001B[38;5;241m.\u001B[39mcolumns\u001B[38;5;241m.\u001B[39mget_loc(target_column)\n\u001B[0;32m      8\u001B[0m     X, y \u001B[38;5;241m=\u001B[39m [], []\n",
      "\u001B[1;31mAttributeError\u001B[0m: 'numpy.ndarray' object has no attribute 'to_numpy'"
     ]
    }
   ],
   "source": [
    "data = pd.read_csv(f'../data/processed/{city}.csv')\n",
    "data.drop(columns=['time'], inplace=True)\n",
    "data = np.expand_dims(data.values, axis=0)\n",
    "X, y = create_windows(data, 24, 1)"
   ],
   "metadata": {
    "collapsed": false,
    "ExecuteTime": {
     "end_time": "2024-08-18T17:31:26.422659900Z",
     "start_time": "2024-08-18T17:31:26.373658500Z"
    }
   },
   "id": "cdb4283518e7e9fa"
  },
  {
   "cell_type": "code",
   "execution_count": 12,
   "outputs": [
    {
     "name": "stdout",
     "output_type": "stream",
     "text": [
      "Provided model function fails when applied to the provided data set.\n"
     ]
    },
    {
     "ename": "MlflowException",
     "evalue": "Failed to enforce schema of data '[[[23.7 58.  14.9 ...  0.2 67.  27. ]\n  [23.2 61.  15.2 ...  0.2 66.  26. ]\n  [22.3 66.  15.6 ...  0.2 69.  28. ]\n  ...\n  [22.9 58.  14.2 ...  0.3 74.  30. ]\n  [23.9 47.  11.9 ...  0.2 74.  30. ]\n  [22.8 57.  13.8 ...  0.2 71.  28. ]]\n\n [[23.2 61.  15.2 ...  0.2 66.  26. ]\n  [22.3 66.  15.6 ...  0.2 69.  28. ]\n  [21.9 74.  17.  ...  0.2 70.  28. ]\n  ...\n  [23.9 47.  11.9 ...  0.2 74.  30. ]\n  [22.8 57.  13.8 ...  0.2 71.  28. ]\n  [23.1 60.  14.9 ...  0.2 70.  28. ]]\n\n [[22.3 66.  15.6 ...  0.2 69.  28. ]\n  [21.9 74.  17.  ...  0.2 70.  28. ]\n  [21.3 78.  17.3 ...  0.2 67.  27. ]\n  ...\n  [22.8 57.  13.8 ...  0.2 71.  28. ]\n  [23.1 60.  14.9 ...  0.2 70.  28. ]\n  [22.8 68.  16.6 ...  0.2 64.  26. ]]\n\n ...\n\n [[15.3 94.  14.4 ...  1.7 34.  12. ]\n  [15.2 94.  14.2 ...  1.7 31.  16. ]\n  [15.  95.  14.2 ...  1.7 32.  16. ]\n  ...\n  [16.  85.  13.5 ...  0.9 48.  19. ]\n  [15.4 88.  13.4 ...  0.9 44.  18. ]\n  [14.9 90.  13.3 ...  0.2 53.  21. ]]\n\n [[15.2 94.  14.2 ...  1.7 31.  16. ]\n  [15.  95.  14.2 ...  1.7 32.  16. ]\n  [15.2 94.  14.2 ...  1.9 38.  16. ]\n  ...\n  [15.4 88.  13.4 ...  0.9 44.  18. ]\n  [14.9 90.  13.3 ...  0.2 53.  21. ]\n  [14.4 91.  13.  ...  1.  30.   9. ]]\n\n [[15.  95.  14.2 ...  1.7 32.  16. ]\n  [15.2 94.  14.2 ...  1.9 38.  16. ]\n  [15.9 90.  14.2 ...  2.2 49.  20. ]\n  ...\n  [14.9 90.  13.3 ...  0.2 53.  21. ]\n  [14.4 91.  13.  ...  1.  30.   9. ]\n  [14.1 92.  12.8 ...  1.  26.  12. ]]]' with schema '[Tensor('float64', (-1, 24, 10))]'. Error: Shape of input (100, 24, 14) does not match expected shape (-1, 24, 10).",
     "output_type": "error",
     "traceback": [
      "\u001B[1;31m---------------------------------------------------------------------------\u001B[0m",
      "\u001B[1;31mMlflowException\u001B[0m                           Traceback (most recent call last)",
      "File \u001B[1;32m~\\AppData\\Local\\pypoetry\\Cache\\virtualenvs\\iis-projekt-GeNdZ2ps-py3.10\\lib\\site-packages\\mlflow\\pyfunc\\__init__.py:652\u001B[0m, in \u001B[0;36m_validate_prediction_input\u001B[1;34m(data, params, input_schema, params_schema, flavor)\u001B[0m\n\u001B[0;32m    651\u001B[0m \u001B[38;5;28;01mtry\u001B[39;00m:\n\u001B[1;32m--> 652\u001B[0m     data \u001B[38;5;241m=\u001B[39m \u001B[43m_enforce_schema\u001B[49m\u001B[43m(\u001B[49m\u001B[43mdata\u001B[49m\u001B[43m,\u001B[49m\u001B[43m \u001B[49m\u001B[43minput_schema\u001B[49m\u001B[43m,\u001B[49m\u001B[43m \u001B[49m\u001B[43mflavor\u001B[49m\u001B[43m)\u001B[49m\n\u001B[0;32m    653\u001B[0m \u001B[38;5;28;01mexcept\u001B[39;00m \u001B[38;5;167;01mException\u001B[39;00m \u001B[38;5;28;01mas\u001B[39;00m e:\n\u001B[0;32m    654\u001B[0m     \u001B[38;5;66;03m# Include error in message for backwards compatibility\u001B[39;00m\n",
      "File \u001B[1;32m~\\AppData\\Local\\pypoetry\\Cache\\virtualenvs\\iis-projekt-GeNdZ2ps-py3.10\\lib\\site-packages\\mlflow\\models\\utils.py:1116\u001B[0m, in \u001B[0;36m_enforce_schema\u001B[1;34m(pf_input, input_schema, flavor)\u001B[0m\n\u001B[0;32m   1115\u001B[0m \u001B[38;5;28;01mif\u001B[39;00m input_schema\u001B[38;5;241m.\u001B[39mis_tensor_spec():\n\u001B[1;32m-> 1116\u001B[0m     \u001B[38;5;28;01mreturn\u001B[39;00m \u001B[43m_enforce_tensor_schema\u001B[49m\u001B[43m(\u001B[49m\u001B[43mpf_input\u001B[49m\u001B[43m,\u001B[49m\u001B[43m \u001B[49m\u001B[43minput_schema\u001B[49m\u001B[43m)\u001B[49m\n\u001B[0;32m   1117\u001B[0m \u001B[38;5;28;01melif\u001B[39;00m HAS_PYSPARK \u001B[38;5;129;01mand\u001B[39;00m \u001B[38;5;28misinstance\u001B[39m(original_pf_input, SparkDataFrame):\n",
      "File \u001B[1;32m~\\AppData\\Local\\pypoetry\\Cache\\virtualenvs\\iis-projekt-GeNdZ2ps-py3.10\\lib\\site-packages\\mlflow\\models\\utils.py:970\u001B[0m, in \u001B[0;36m_enforce_tensor_schema\u001B[1;34m(pf_input, input_schema)\u001B[0m\n\u001B[0;32m    969\u001B[0m \u001B[38;5;28;01melif\u001B[39;00m \u001B[38;5;28misinstance\u001B[39m(pf_input, np\u001B[38;5;241m.\u001B[39mndarray) \u001B[38;5;129;01mor\u001B[39;00m _is_sparse_matrix(pf_input):\n\u001B[1;32m--> 970\u001B[0m     new_pf_input \u001B[38;5;241m=\u001B[39m \u001B[43m_enforce_tensor_spec\u001B[49m\u001B[43m(\u001B[49m\u001B[43mpf_input\u001B[49m\u001B[43m,\u001B[49m\u001B[43m \u001B[49m\u001B[43mtensor_spec\u001B[49m\u001B[43m)\u001B[49m\n\u001B[0;32m    971\u001B[0m \u001B[38;5;28;01melse\u001B[39;00m:\n",
      "File \u001B[1;32m~\\AppData\\Local\\pypoetry\\Cache\\virtualenvs\\iis-projekt-GeNdZ2ps-py3.10\\lib\\site-packages\\mlflow\\models\\utils.py:670\u001B[0m, in \u001B[0;36m_enforce_tensor_spec\u001B[1;34m(values, tensor_spec)\u001B[0m\n\u001B[0;32m    669\u001B[0m     \u001B[38;5;28;01mif\u001B[39;00m expected \u001B[38;5;241m!=\u001B[39m actual:\n\u001B[1;32m--> 670\u001B[0m         \u001B[38;5;28;01mraise\u001B[39;00m MlflowException(\n\u001B[0;32m    671\u001B[0m             \u001B[38;5;124mf\u001B[39m\u001B[38;5;124m\"\u001B[39m\u001B[38;5;124mShape of input \u001B[39m\u001B[38;5;132;01m{\u001B[39;00mactual_shape\u001B[38;5;132;01m}\u001B[39;00m\u001B[38;5;124m does not match expected shape \u001B[39m\u001B[38;5;132;01m{\u001B[39;00mexpected_shape\u001B[38;5;132;01m}\u001B[39;00m\u001B[38;5;124m.\u001B[39m\u001B[38;5;124m\"\u001B[39m\n\u001B[0;32m    672\u001B[0m         )\n\u001B[0;32m    673\u001B[0m \u001B[38;5;28;01mif\u001B[39;00m clean_tensor_type(actual_type) \u001B[38;5;241m!=\u001B[39m expected_type:\n",
      "\u001B[1;31mMlflowException\u001B[0m: Shape of input (100, 24, 14) does not match expected shape (-1, 24, 10).",
      "\nDuring handling of the above exception, another exception occurred:\n",
      "\u001B[1;31mMlflowException\u001B[0m                           Traceback (most recent call last)",
      "Cell \u001B[1;32mIn[12], line 3\u001B[0m\n\u001B[0;32m      1\u001B[0m \u001B[38;5;28;01mimport\u001B[39;00m \u001B[38;5;21;01mshap\u001B[39;00m\n\u001B[1;32m----> 3\u001B[0m explainer \u001B[38;5;241m=\u001B[39m \u001B[43mshap\u001B[49m\u001B[38;5;241;43m.\u001B[39;49m\u001B[43mKernelExplainer\u001B[49m\u001B[43m(\u001B[49m\u001B[43mmodel\u001B[49m\u001B[38;5;241;43m.\u001B[39;49m\u001B[43mpredict\u001B[49m\u001B[43m,\u001B[49m\u001B[43m \u001B[49m\u001B[43mX\u001B[49m\u001B[43m[\u001B[49m\u001B[38;5;241;43m0\u001B[39;49m\u001B[43m:\u001B[49m\u001B[38;5;241;43m100\u001B[39;49m\u001B[43m]\u001B[49m\u001B[43m)\u001B[49m\n\u001B[0;32m      4\u001B[0m data \u001B[38;5;241m=\u001B[39m np\u001B[38;5;241m.\u001B[39mexpand_dims(data\u001B[38;5;241m.\u001B[39mvalues, axis\u001B[38;5;241m=\u001B[39m\u001B[38;5;241m0\u001B[39m)\n\u001B[0;32m      5\u001B[0m shape_values \u001B[38;5;241m=\u001B[39m explainer\u001B[38;5;241m.\u001B[39mshap_values(X[\u001B[38;5;241m0\u001B[39m:\u001B[38;5;241m100\u001B[39m])\n",
      "File \u001B[1;32m~\\AppData\\Local\\pypoetry\\Cache\\virtualenvs\\iis-projekt-GeNdZ2ps-py3.10\\lib\\site-packages\\shap\\explainers\\_kernel.py:97\u001B[0m, in \u001B[0;36mKernelExplainer.__init__\u001B[1;34m(self, model, data, feature_names, link, **kwargs)\u001B[0m\n\u001B[0;32m     95\u001B[0m \u001B[38;5;28mself\u001B[39m\u001B[38;5;241m.\u001B[39mmodel \u001B[38;5;241m=\u001B[39m convert_to_model(model, keep_index\u001B[38;5;241m=\u001B[39m\u001B[38;5;28mself\u001B[39m\u001B[38;5;241m.\u001B[39mkeep_index)\n\u001B[0;32m     96\u001B[0m \u001B[38;5;28mself\u001B[39m\u001B[38;5;241m.\u001B[39mdata \u001B[38;5;241m=\u001B[39m convert_to_data(data, keep_index\u001B[38;5;241m=\u001B[39m\u001B[38;5;28mself\u001B[39m\u001B[38;5;241m.\u001B[39mkeep_index)\n\u001B[1;32m---> 97\u001B[0m model_null \u001B[38;5;241m=\u001B[39m \u001B[43mmatch_model_to_data\u001B[49m\u001B[43m(\u001B[49m\u001B[38;5;28;43mself\u001B[39;49m\u001B[38;5;241;43m.\u001B[39;49m\u001B[43mmodel\u001B[49m\u001B[43m,\u001B[49m\u001B[43m \u001B[49m\u001B[38;5;28;43mself\u001B[39;49m\u001B[38;5;241;43m.\u001B[39;49m\u001B[43mdata\u001B[49m\u001B[43m)\u001B[49m\n\u001B[0;32m     99\u001B[0m \u001B[38;5;66;03m# enforce our current input type limitations\u001B[39;00m\n\u001B[0;32m    100\u001B[0m \u001B[38;5;28;01mif\u001B[39;00m \u001B[38;5;129;01mnot\u001B[39;00m \u001B[38;5;28misinstance\u001B[39m(\u001B[38;5;28mself\u001B[39m\u001B[38;5;241m.\u001B[39mdata, (DenseData, SparseData)):\n",
      "File \u001B[1;32m~\\AppData\\Local\\pypoetry\\Cache\\virtualenvs\\iis-projekt-GeNdZ2ps-py3.10\\lib\\site-packages\\shap\\utils\\_legacy.py:139\u001B[0m, in \u001B[0;36mmatch_model_to_data\u001B[1;34m(model, data)\u001B[0m\n\u001B[0;32m    137\u001B[0m         out_val \u001B[38;5;241m=\u001B[39m model\u001B[38;5;241m.\u001B[39mf(data\u001B[38;5;241m.\u001B[39mconvert_to_df())\n\u001B[0;32m    138\u001B[0m     \u001B[38;5;28;01melse\u001B[39;00m:\n\u001B[1;32m--> 139\u001B[0m         out_val \u001B[38;5;241m=\u001B[39m \u001B[43mmodel\u001B[49m\u001B[38;5;241;43m.\u001B[39;49m\u001B[43mf\u001B[49m\u001B[43m(\u001B[49m\u001B[43mdata\u001B[49m\u001B[38;5;241;43m.\u001B[39;49m\u001B[43mdata\u001B[49m\u001B[43m)\u001B[49m\n\u001B[0;32m    140\u001B[0m \u001B[38;5;28;01mexcept\u001B[39;00m \u001B[38;5;167;01mException\u001B[39;00m:\n\u001B[0;32m    141\u001B[0m     \u001B[38;5;28mprint\u001B[39m(\u001B[38;5;124m\"\u001B[39m\u001B[38;5;124mProvided model function fails when applied to the provided data set.\u001B[39m\u001B[38;5;124m\"\u001B[39m)\n",
      "File \u001B[1;32m~\\AppData\\Local\\pypoetry\\Cache\\virtualenvs\\iis-projekt-GeNdZ2ps-py3.10\\lib\\site-packages\\mlflow\\pyfunc\\__init__.py:739\u001B[0m, in \u001B[0;36mPyFuncModel.predict\u001B[1;34m(self, data, params)\u001B[0m\n\u001B[0;32m    737\u001B[0m \u001B[38;5;28;01mwith\u001B[39;00m \u001B[38;5;28mself\u001B[39m\u001B[38;5;241m.\u001B[39m_try_get_or_generate_prediction_context() \u001B[38;5;28;01mas\u001B[39;00m context:\n\u001B[0;32m    738\u001B[0m     \u001B[38;5;28mself\u001B[39m\u001B[38;5;241m.\u001B[39m_update_dependencies_schemas_in_prediction_context(context)\n\u001B[1;32m--> 739\u001B[0m     \u001B[38;5;28;01mreturn\u001B[39;00m \u001B[38;5;28;43mself\u001B[39;49m\u001B[38;5;241;43m.\u001B[39;49m\u001B[43m_predict\u001B[49m\u001B[43m(\u001B[49m\u001B[43mdata\u001B[49m\u001B[43m,\u001B[49m\u001B[43m \u001B[49m\u001B[43mparams\u001B[49m\u001B[43m)\u001B[49m\n",
      "File \u001B[1;32m~\\AppData\\Local\\pypoetry\\Cache\\virtualenvs\\iis-projekt-GeNdZ2ps-py3.10\\lib\\site-packages\\mlflow\\pyfunc\\__init__.py:772\u001B[0m, in \u001B[0;36mPyFuncModel._predict\u001B[1;34m(self, data, params)\u001B[0m\n\u001B[0;32m    770\u001B[0m \u001B[38;5;28mself\u001B[39m\u001B[38;5;241m.\u001B[39minput_schema \u001B[38;5;241m=\u001B[39m \u001B[38;5;28mself\u001B[39m\u001B[38;5;241m.\u001B[39mmetadata\u001B[38;5;241m.\u001B[39mget_input_schema()\n\u001B[0;32m    771\u001B[0m \u001B[38;5;28mself\u001B[39m\u001B[38;5;241m.\u001B[39mparams_schema \u001B[38;5;241m=\u001B[39m \u001B[38;5;28mself\u001B[39m\u001B[38;5;241m.\u001B[39mmetadata\u001B[38;5;241m.\u001B[39mget_params_schema()\n\u001B[1;32m--> 772\u001B[0m data, params \u001B[38;5;241m=\u001B[39m \u001B[43m_validate_prediction_input\u001B[49m\u001B[43m(\u001B[49m\n\u001B[0;32m    773\u001B[0m \u001B[43m    \u001B[49m\u001B[43mdata\u001B[49m\u001B[43m,\u001B[49m\u001B[43m \u001B[49m\u001B[43mparams\u001B[49m\u001B[43m,\u001B[49m\u001B[43m \u001B[49m\u001B[38;5;28;43mself\u001B[39;49m\u001B[38;5;241;43m.\u001B[39;49m\u001B[43minput_schema\u001B[49m\u001B[43m,\u001B[49m\u001B[43m \u001B[49m\u001B[38;5;28;43mself\u001B[39;49m\u001B[38;5;241;43m.\u001B[39;49m\u001B[43mparams_schema\u001B[49m\u001B[43m,\u001B[49m\u001B[43m \u001B[49m\u001B[38;5;28;43mself\u001B[39;49m\u001B[38;5;241;43m.\u001B[39;49m\u001B[43mloader_module\u001B[49m\n\u001B[0;32m    774\u001B[0m \u001B[43m\u001B[49m\u001B[43m)\u001B[49m\n\u001B[0;32m    775\u001B[0m params_arg \u001B[38;5;241m=\u001B[39m inspect\u001B[38;5;241m.\u001B[39msignature(\u001B[38;5;28mself\u001B[39m\u001B[38;5;241m.\u001B[39m_predict_fn)\u001B[38;5;241m.\u001B[39mparameters\u001B[38;5;241m.\u001B[39mget(\u001B[38;5;124m\"\u001B[39m\u001B[38;5;124mparams\u001B[39m\u001B[38;5;124m\"\u001B[39m)\n\u001B[0;32m    776\u001B[0m \u001B[38;5;28;01mif\u001B[39;00m params_arg \u001B[38;5;129;01mand\u001B[39;00m params_arg\u001B[38;5;241m.\u001B[39mkind \u001B[38;5;241m!=\u001B[39m inspect\u001B[38;5;241m.\u001B[39mParameter\u001B[38;5;241m.\u001B[39mVAR_KEYWORD:\n",
      "File \u001B[1;32m~\\AppData\\Local\\pypoetry\\Cache\\virtualenvs\\iis-projekt-GeNdZ2ps-py3.10\\lib\\site-packages\\mlflow\\pyfunc\\__init__.py:655\u001B[0m, in \u001B[0;36m_validate_prediction_input\u001B[1;34m(data, params, input_schema, params_schema, flavor)\u001B[0m\n\u001B[0;32m    652\u001B[0m         data \u001B[38;5;241m=\u001B[39m _enforce_schema(data, input_schema, flavor)\n\u001B[0;32m    653\u001B[0m     \u001B[38;5;28;01mexcept\u001B[39;00m \u001B[38;5;167;01mException\u001B[39;00m \u001B[38;5;28;01mas\u001B[39;00m e:\n\u001B[0;32m    654\u001B[0m         \u001B[38;5;66;03m# Include error in message for backwards compatibility\u001B[39;00m\n\u001B[1;32m--> 655\u001B[0m         \u001B[38;5;28;01mraise\u001B[39;00m MlflowException\u001B[38;5;241m.\u001B[39minvalid_parameter_value(\n\u001B[0;32m    656\u001B[0m             \u001B[38;5;124mf\u001B[39m\u001B[38;5;124m\"\u001B[39m\u001B[38;5;124mFailed to enforce schema of data \u001B[39m\u001B[38;5;124m'\u001B[39m\u001B[38;5;132;01m{\u001B[39;00mdata\u001B[38;5;132;01m}\u001B[39;00m\u001B[38;5;124m'\u001B[39m\u001B[38;5;124m \u001B[39m\u001B[38;5;124m\"\u001B[39m\n\u001B[0;32m    657\u001B[0m             \u001B[38;5;124mf\u001B[39m\u001B[38;5;124m\"\u001B[39m\u001B[38;5;124mwith schema \u001B[39m\u001B[38;5;124m'\u001B[39m\u001B[38;5;132;01m{\u001B[39;00minput_schema\u001B[38;5;132;01m}\u001B[39;00m\u001B[38;5;124m'\u001B[39m\u001B[38;5;124m. \u001B[39m\u001B[38;5;124m\"\u001B[39m\n\u001B[0;32m    658\u001B[0m             \u001B[38;5;124mf\u001B[39m\u001B[38;5;124m\"\u001B[39m\u001B[38;5;124mError: \u001B[39m\u001B[38;5;132;01m{\u001B[39;00me\u001B[38;5;132;01m}\u001B[39;00m\u001B[38;5;124m\"\u001B[39m,\n\u001B[0;32m    659\u001B[0m         )\n\u001B[0;32m    660\u001B[0m params \u001B[38;5;241m=\u001B[39m _enforce_params_schema(params, params_schema)\n\u001B[0;32m    661\u001B[0m \u001B[38;5;28;01mif\u001B[39;00m HAS_PYSPARK \u001B[38;5;129;01mand\u001B[39;00m \u001B[38;5;28misinstance\u001B[39m(data, SparkDataFrame):\n",
      "\u001B[1;31mMlflowException\u001B[0m: Failed to enforce schema of data '[[[23.7 58.  14.9 ...  0.2 67.  27. ]\n  [23.2 61.  15.2 ...  0.2 66.  26. ]\n  [22.3 66.  15.6 ...  0.2 69.  28. ]\n  ...\n  [22.9 58.  14.2 ...  0.3 74.  30. ]\n  [23.9 47.  11.9 ...  0.2 74.  30. ]\n  [22.8 57.  13.8 ...  0.2 71.  28. ]]\n\n [[23.2 61.  15.2 ...  0.2 66.  26. ]\n  [22.3 66.  15.6 ...  0.2 69.  28. ]\n  [21.9 74.  17.  ...  0.2 70.  28. ]\n  ...\n  [23.9 47.  11.9 ...  0.2 74.  30. ]\n  [22.8 57.  13.8 ...  0.2 71.  28. ]\n  [23.1 60.  14.9 ...  0.2 70.  28. ]]\n\n [[22.3 66.  15.6 ...  0.2 69.  28. ]\n  [21.9 74.  17.  ...  0.2 70.  28. ]\n  [21.3 78.  17.3 ...  0.2 67.  27. ]\n  ...\n  [22.8 57.  13.8 ...  0.2 71.  28. ]\n  [23.1 60.  14.9 ...  0.2 70.  28. ]\n  [22.8 68.  16.6 ...  0.2 64.  26. ]]\n\n ...\n\n [[15.3 94.  14.4 ...  1.7 34.  12. ]\n  [15.2 94.  14.2 ...  1.7 31.  16. ]\n  [15.  95.  14.2 ...  1.7 32.  16. ]\n  ...\n  [16.  85.  13.5 ...  0.9 48.  19. ]\n  [15.4 88.  13.4 ...  0.9 44.  18. ]\n  [14.9 90.  13.3 ...  0.2 53.  21. ]]\n\n [[15.2 94.  14.2 ...  1.7 31.  16. ]\n  [15.  95.  14.2 ...  1.7 32.  16. ]\n  [15.2 94.  14.2 ...  1.9 38.  16. ]\n  ...\n  [15.4 88.  13.4 ...  0.9 44.  18. ]\n  [14.9 90.  13.3 ...  0.2 53.  21. ]\n  [14.4 91.  13.  ...  1.  30.   9. ]]\n\n [[15.  95.  14.2 ...  1.7 32.  16. ]\n  [15.2 94.  14.2 ...  1.9 38.  16. ]\n  [15.9 90.  14.2 ...  2.2 49.  20. ]\n  ...\n  [14.9 90.  13.3 ...  0.2 53.  21. ]\n  [14.4 91.  13.  ...  1.  30.   9. ]\n  [14.1 92.  12.8 ...  1.  26.  12. ]]]' with schema '[Tensor('float64', (-1, 24, 10))]'. Error: Shape of input (100, 24, 14) does not match expected shape (-1, 24, 10)."
     ]
    }
   ],
   "source": [
    "import shap\n",
    "\n",
    "explainer = shap.KernelExplainer(model.predict, X[0:100])\n",
    "shape_values = explainer.shap_values(X[0:100])"
   ],
   "metadata": {
    "collapsed": false,
    "ExecuteTime": {
     "end_time": "2024-08-18T17:30:51.331651500Z",
     "start_time": "2024-08-18T17:30:51.227731300Z"
    }
   },
   "id": "cba116349f32f0b7"
  }
 ],
 "metadata": {
  "kernelspec": {
   "display_name": "Python 3",
   "language": "python",
   "name": "python3"
  },
  "language_info": {
   "codemirror_mode": {
    "name": "ipython",
    "version": 2
   },
   "file_extension": ".py",
   "mimetype": "text/x-python",
   "name": "python",
   "nbconvert_exporter": "python",
   "pygments_lexer": "ipython2",
   "version": "2.7.6"
  }
 },
 "nbformat": 4,
 "nbformat_minor": 5
}
