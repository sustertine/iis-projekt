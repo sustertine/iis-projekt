{
 "cells": [
  {
   "cell_type": "code",
   "execution_count": 11,
   "id": "initial_id",
   "metadata": {
    "collapsed": true,
    "ExecuteTime": {
     "end_time": "2024-08-18T10:46:11.414135800Z",
     "start_time": "2024-08-18T10:46:11.084851500Z"
    }
   },
   "outputs": [
    {
     "name": "stdout",
     "output_type": "stream",
     "text": [
      "[{'_id': ObjectId('66c1c6c3d344621169ea8d30'), 'temperature_2m': 18.8, 'relative_humidity_2m': 94, 'dew_point_2m': 17.8, 'apparent_temperature': 21.5, 'precipitation_probability': 19, 'wind_speed_10m': 1.5, 'wind_gusts_10m': 5.4, 'pm10': 12.6, 'pm2_5': 10.9, 'carbon_monoxide': 176.0, 'nitrogen_dioxide': 9.1, 'sulphur_dioxide': 0.2, 'ozone': 52.0, 'european_aqi': 25, 'location_name': 'LJUBLJANA', 'time': '2024-08-18T12:02:43.514503', 'predictions': [{'time': '18-08-2024 13:02:43', 'aqi': 27.57785987854004}, {'time': '18-08-2024 14:02:43', 'aqi': 34.80389404296875}, {'time': '18-08-2024 15:02:43', 'aqi': 30.39792251586914}, {'time': '18-08-2024 16:02:43', 'aqi': 31.9427433013916}, {'time': '18-08-2024 17:02:43', 'aqi': 35.093162536621094}, {'time': '18-08-2024 18:02:43', 'aqi': 37.7901496887207}, {'time': '18-08-2024 19:02:43', 'aqi': 36.21549987792969}, {'time': '18-08-2024 20:02:43', 'aqi': 36.943603515625}, {'time': '18-08-2024 21:02:43', 'aqi': 36.30002212524414}, {'time': '18-08-2024 22:02:43', 'aqi': 37.344215393066406}, {'time': '18-08-2024 23:02:43', 'aqi': 38.93500900268555}, {'time': '19-08-2024 00:02:43', 'aqi': 35.496788024902344}, {'time': '19-08-2024 01:02:43', 'aqi': 32.385650634765625}, {'time': '19-08-2024 02:02:43', 'aqi': 36.05754852294922}, {'time': '19-08-2024 03:02:43', 'aqi': 31.976736068725586}, {'time': '19-08-2024 04:02:43', 'aqi': 27.796592712402344}, {'time': '19-08-2024 05:02:43', 'aqi': 28.527822494506836}, {'time': '19-08-2024 06:02:43', 'aqi': 31.724109649658203}, {'time': '19-08-2024 07:02:43', 'aqi': 29.072019577026367}, {'time': '19-08-2024 08:02:43', 'aqi': 23.60321044921875}, {'time': '19-08-2024 09:02:43', 'aqi': 24.98452377319336}, {'time': '19-08-2024 10:02:43', 'aqi': 29.824373245239258}, {'time': '19-08-2024 11:02:43', 'aqi': 26.594924926757812}, {'time': '19-08-2024 12:02:43', 'aqi': 24.154890060424805}]}, {'_id': ObjectId('66c1cbd743d3dcf915dd7431'), 'temperature_2m': 18.8, 'relative_humidity_2m': 94, 'dew_point_2m': 17.8, 'apparent_temperature': 21.5, 'precipitation_probability': 19, 'wind_speed_10m': 1.5, 'wind_gusts_10m': 5.4, 'pm10': 12.6, 'pm2_5': 10.9, 'carbon_monoxide': 176.0, 'nitrogen_dioxide': 9.1, 'sulphur_dioxide': 0.2, 'ozone': 52.0, 'european_aqi': 25, 'location_name': 'LJUBLJANA', 'time': '2024-08-18T12:24:22.589963', 'predictions': [{'time': '18-08-2024 13:24:22', 'aqi': 27.57785987854004}, {'time': '18-08-2024 14:24:22', 'aqi': 34.80389404296875}, {'time': '18-08-2024 15:24:22', 'aqi': 30.39792251586914}, {'time': '18-08-2024 16:24:22', 'aqi': 31.9427433013916}, {'time': '18-08-2024 17:24:22', 'aqi': 35.093162536621094}, {'time': '18-08-2024 18:24:22', 'aqi': 37.7901496887207}, {'time': '18-08-2024 19:24:22', 'aqi': 36.21549987792969}, {'time': '18-08-2024 20:24:22', 'aqi': 36.943603515625}, {'time': '18-08-2024 21:24:22', 'aqi': 36.30002212524414}, {'time': '18-08-2024 22:24:22', 'aqi': 37.344215393066406}, {'time': '18-08-2024 23:24:22', 'aqi': 38.93500900268555}, {'time': '19-08-2024 00:24:22', 'aqi': 35.496788024902344}, {'time': '19-08-2024 01:24:22', 'aqi': 32.385650634765625}, {'time': '19-08-2024 02:24:22', 'aqi': 36.05754852294922}, {'time': '19-08-2024 03:24:22', 'aqi': 31.976736068725586}, {'time': '19-08-2024 04:24:22', 'aqi': 27.796592712402344}, {'time': '19-08-2024 05:24:22', 'aqi': 28.527822494506836}, {'time': '19-08-2024 06:24:22', 'aqi': 31.724109649658203}, {'time': '19-08-2024 07:24:22', 'aqi': 29.072019577026367}, {'time': '19-08-2024 08:24:22', 'aqi': 23.60321044921875}, {'time': '19-08-2024 09:24:22', 'aqi': 24.98452377319336}, {'time': '19-08-2024 10:24:22', 'aqi': 29.824373245239258}, {'time': '19-08-2024 11:24:22', 'aqi': 26.594924926757812}, {'time': '19-08-2024 12:24:22', 'aqi': 24.154890060424805}]}]\n"
     ]
    }
   ],
   "source": [
    "from src.serve.mongo import ApiCallsClient\n",
    "from pymongo import MongoClient\n",
    "\n",
    "import os\n",
    "\n",
    "mongo_client = ApiCallsClient()\n",
    "\n",
    "print(mongo_client.get_api_calls())"
   ]
  },
  {
   "cell_type": "code",
   "execution_count": null,
   "outputs": [],
   "source": [],
   "metadata": {
    "collapsed": false
   },
   "id": "5cea9cb7af4bb82b"
  }
 ],
 "metadata": {
  "kernelspec": {
   "display_name": "Python 3",
   "language": "python",
   "name": "python3"
  },
  "language_info": {
   "codemirror_mode": {
    "name": "ipython",
    "version": 2
   },
   "file_extension": ".py",
   "mimetype": "text/x-python",
   "name": "python",
   "nbconvert_exporter": "python",
   "pygments_lexer": "ipython2",
   "version": "2.7.6"
  }
 },
 "nbformat": 4,
 "nbformat_minor": 5
}
