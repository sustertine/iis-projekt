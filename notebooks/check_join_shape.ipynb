{
 "cells": [
  {
   "cell_type": "code",
   "execution_count": 29,
   "id": "initial_id",
   "metadata": {
    "collapsed": true,
    "ExecuteTime": {
     "end_time": "2024-08-18T09:57:42.073400300Z",
     "start_time": "2024-08-18T09:57:42.058402300Z"
    }
   },
   "outputs": [],
   "source": [
    "import pandas as pd\n",
    "\n",
    "aq = pd.read_csv('../temp/LJUBLJANA_air_quality.csv')\n",
    "w = pd.read_csv('../temp/LJUBLJANA_weather.csv')"
   ]
  },
  {
   "cell_type": "code",
   "execution_count": 30,
   "outputs": [],
   "source": [
    "common_times = w.index.intersection(aq.index)\n",
    "\n",
    "common_times = common_times[-24:]\n",
    "\n",
    "weather_data = w.loc[common_times]\n",
    "air_quality_data = aq.loc[common_times]\n",
    "\n",
    "joined_data = pd.merge(weather_data, air_quality_data, left_index=True, right_index=True)\n",
    "joined_data.drop(columns=['time_y'], inplace=True)\n",
    "joined_data.rename(columns={'time_x': 'time'}, inplace=True)"
   ],
   "metadata": {
    "collapsed": false,
    "ExecuteTime": {
     "end_time": "2024-08-18T09:57:42.085401500Z",
     "start_time": "2024-08-18T09:57:42.072401500Z"
    }
   },
   "id": "e9f1aaf6aad6e6b0"
  },
  {
   "cell_type": "code",
   "execution_count": 31,
   "outputs": [
    {
     "data": {
      "text/plain": "Index(['time', 'temperature_2m', 'relative_humidity_2m', 'dew_point_2m',\n       'apparent_temperature', 'precipitation_probability', 'wind_speed_10m',\n       'wind_gusts_10m', 'pm10', 'pm2_5', 'carbon_monoxide',\n       'nitrogen_dioxide', 'sulphur_dioxide', 'ozone', 'european_aqi'],\n      dtype='object')"
     },
     "execution_count": 31,
     "metadata": {},
     "output_type": "execute_result"
    }
   ],
   "source": [
    "joined_data.columns"
   ],
   "metadata": {
    "collapsed": false,
    "ExecuteTime": {
     "end_time": "2024-08-18T09:57:42.105399500Z",
     "start_time": "2024-08-18T09:57:42.087401Z"
    }
   },
   "id": "95294a303fa4d599"
  }
 ],
 "metadata": {
  "kernelspec": {
   "display_name": "Python 3",
   "language": "python",
   "name": "python3"
  },
  "language_info": {
   "codemirror_mode": {
    "name": "ipython",
    "version": 2
   },
   "file_extension": ".py",
   "mimetype": "text/x-python",
   "name": "python",
   "nbconvert_exporter": "python",
   "pygments_lexer": "ipython2",
   "version": "2.7.6"
  }
 },
 "nbformat": 4,
 "nbformat_minor": 5
}
